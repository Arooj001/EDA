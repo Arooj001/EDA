{
 "cells": [
  {
   "cell_type": "code",
   "execution_count": 1,
   "id": "7855e22b",
   "metadata": {},
   "outputs": [],
   "source": [
    "import numpy as np\n",
    "import pandas as pd"
   ]
  },
  {
   "cell_type": "code",
   "execution_count": 3,
   "id": "d0f1a6de",
   "metadata": {},
   "outputs": [],
   "source": [
    "population = pd.Series([35.467, 63.951, 80.940, 60.665, 127.061, 64.511, 318.523])\n",
    "pop=np.array([35.467, 63.951, 80.940, 60.665, 127.061, 64.511, 318.523])\n",
    "population.name = \"G7 population in millions\""
   ]
  },
  {
   "cell_type": "code",
   "execution_count": 4,
   "id": "e6a91dcd",
   "metadata": {},
   "outputs": [
    {
     "data": {
      "text/plain": [
       "array([ 35.467,  63.951,  80.94 ,  60.665, 127.061,  64.511, 318.523])"
      ]
     },
     "execution_count": 4,
     "metadata": {},
     "output_type": "execute_result"
    }
   ],
   "source": [
    "pop"
   ]
  },
  {
   "cell_type": "code",
   "execution_count": 5,
   "id": "90730459",
   "metadata": {},
   "outputs": [
    {
     "data": {
      "text/plain": [
       "0     35.467\n",
       "1     63.951\n",
       "2     80.940\n",
       "3     60.665\n",
       "4    127.061\n",
       "5     64.511\n",
       "6    318.523\n",
       "Name: G7 population in millions, dtype: float64"
      ]
     },
     "execution_count": 5,
     "metadata": {},
     "output_type": "execute_result"
    }
   ],
   "source": [
    "population"
   ]
  },
  {
   "cell_type": "code",
   "execution_count": 6,
   "id": "e7502a56",
   "metadata": {},
   "outputs": [
    {
     "data": {
      "text/plain": [
       "dtype('float64')"
      ]
     },
     "execution_count": 6,
     "metadata": {},
     "output_type": "execute_result"
    }
   ],
   "source": [
    "pop.dtype"
   ]
  },
  {
   "cell_type": "code",
   "execution_count": 7,
   "id": "474d65ef",
   "metadata": {},
   "outputs": [
    {
     "data": {
      "text/plain": [
       "dtype('float64')"
      ]
     },
     "execution_count": 7,
     "metadata": {},
     "output_type": "execute_result"
    }
   ],
   "source": [
    "population.dtype"
   ]
  },
  {
   "cell_type": "code",
   "execution_count": 8,
   "id": "cf0ed9de",
   "metadata": {},
   "outputs": [
    {
     "data": {
      "text/plain": [
       "array([ 35.467,  63.951,  80.94 ,  60.665, 127.061,  64.511, 318.523])"
      ]
     },
     "execution_count": 8,
     "metadata": {},
     "output_type": "execute_result"
    }
   ],
   "source": [
    "population.values"
   ]
  },
  {
   "cell_type": "code",
   "execution_count": 10,
   "id": "1ce11c24",
   "metadata": {},
   "outputs": [
    {
     "data": {
      "text/plain": [
       "35.467"
      ]
     },
     "execution_count": 10,
     "metadata": {},
     "output_type": "execute_result"
    }
   ],
   "source": [
    "population[0]"
   ]
  },
  {
   "cell_type": "code",
   "execution_count": 12,
   "id": "098f4dce",
   "metadata": {},
   "outputs": [
    {
     "data": {
      "text/plain": [
       "60.665"
      ]
     },
     "execution_count": 12,
     "metadata": {},
     "output_type": "execute_result"
    }
   ],
   "source": [
    "population[3]"
   ]
  },
  {
   "cell_type": "code",
   "execution_count": 13,
   "id": "4bb3e33c",
   "metadata": {},
   "outputs": [
    {
     "data": {
      "text/plain": [
       "64.511"
      ]
     },
     "execution_count": 13,
     "metadata": {},
     "output_type": "execute_result"
    }
   ],
   "source": [
    "population[5]"
   ]
  },
  {
   "cell_type": "code",
   "execution_count": 14,
   "id": "d4823a5a",
   "metadata": {},
   "outputs": [
    {
     "data": {
      "text/plain": [
       "RangeIndex(start=0, stop=7, step=1)"
      ]
     },
     "execution_count": 14,
     "metadata": {},
     "output_type": "execute_result"
    }
   ],
   "source": [
    "population.index"
   ]
  },
  {
   "cell_type": "code",
   "execution_count": 15,
   "id": "68d405b8",
   "metadata": {},
   "outputs": [],
   "source": [
    "population.index = [\n",
    "    'Canada',\n",
    "    'France',\n",
    "    'Germany',\n",
    "    'Italy',\n",
    "    'Japan',\n",
    "    'United Kingdom',\n",
    "    'United States',\n",
    "]"
   ]
  },
  {
   "cell_type": "code",
   "execution_count": 16,
   "id": "746e9f23",
   "metadata": {},
   "outputs": [
    {
     "data": {
      "text/plain": [
       "Canada             35.467\n",
       "France             63.951\n",
       "Germany            80.940\n",
       "Italy              60.665\n",
       "Japan             127.061\n",
       "United Kingdom     64.511\n",
       "United States     318.523\n",
       "Name: G7 population in millions, dtype: float64"
      ]
     },
     "execution_count": 16,
     "metadata": {},
     "output_type": "execute_result"
    }
   ],
   "source": [
    "population"
   ]
  },
  {
   "cell_type": "code",
   "execution_count": 17,
   "id": "ce956456",
   "metadata": {},
   "outputs": [
    {
     "data": {
      "text/plain": [
       "Canada             35.467\n",
       "France             63.951\n",
       "Germany            80.940\n",
       "Italy              60.665\n",
       "Japan             127.061\n",
       "United Kingdom     64.511\n",
       "United States     318.523\n",
       "Name: G7 Population in millions, dtype: float64"
      ]
     },
     "execution_count": 17,
     "metadata": {},
     "output_type": "execute_result"
    }
   ],
   "source": [
    "pd.Series({\n",
    "    'Canada': 35.467,\n",
    "    'France': 63.951,\n",
    "    'Germany': 80.94,\n",
    "    'Italy': 60.665,\n",
    "    'Japan': 127.061,\n",
    "    'United Kingdom': 64.511,\n",
    "    'United States': 318.523\n",
    "}, name='G7 Population in millions')"
   ]
  },
  {
   "cell_type": "code",
   "execution_count": 19,
   "id": "52c0a369",
   "metadata": {},
   "outputs": [
    {
     "data": {
      "text/plain": [
       "Canada    35.467\n",
       "Name: G7 population in millions, dtype: float64"
      ]
     },
     "execution_count": 19,
     "metadata": {},
     "output_type": "execute_result"
    }
   ],
   "source": [
    "pd.Series(population, index=[\"Canada\"])"
   ]
  },
  {
   "cell_type": "code",
   "execution_count": 21,
   "id": "b66d60f8",
   "metadata": {},
   "outputs": [
    {
     "data": {
      "text/plain": [
       "United Kingdom    64.511\n",
       "Name: G7 population in millions, dtype: float64"
      ]
     },
     "execution_count": 21,
     "metadata": {},
     "output_type": "execute_result"
    }
   ],
   "source": [
    "pd.Series(population, index=[\"United Kingdom\"])"
   ]
  },
  {
   "cell_type": "code",
   "execution_count": 22,
   "id": "b1a23f54",
   "metadata": {},
   "outputs": [
    {
     "data": {
      "text/plain": [
       "60.665"
      ]
     },
     "execution_count": 22,
     "metadata": {},
     "output_type": "execute_result"
    }
   ],
   "source": [
    "population[\"Italy\"]"
   ]
  },
  {
   "cell_type": "code",
   "execution_count": 24,
   "id": "75f05a97",
   "metadata": {},
   "outputs": [
    {
     "data": {
      "text/plain": [
       "127.061"
      ]
     },
     "execution_count": 24,
     "metadata": {},
     "output_type": "execute_result"
    }
   ],
   "source": [
    "population[\"Japan\"]"
   ]
  },
  {
   "cell_type": "code",
   "execution_count": 25,
   "id": "009364e0",
   "metadata": {},
   "outputs": [
    {
     "data": {
      "text/plain": [
       "Canada     35.467\n",
       "France     63.951\n",
       "Germany    80.940\n",
       "Name: G7 population in millions, dtype: float64"
      ]
     },
     "execution_count": 25,
     "metadata": {},
     "output_type": "execute_result"
    }
   ],
   "source": [
    "population.iloc[0:3]"
   ]
  },
  {
   "cell_type": "code",
   "execution_count": 26,
   "id": "4f5d2a34",
   "metadata": {},
   "outputs": [
    {
     "data": {
      "text/plain": [
       "64.511"
      ]
     },
     "execution_count": 26,
     "metadata": {},
     "output_type": "execute_result"
    }
   ],
   "source": [
    "population.iloc[-2]"
   ]
  },
  {
   "cell_type": "code",
   "execution_count": 28,
   "id": "b9af31be",
   "metadata": {},
   "outputs": [
    {
     "data": {
      "text/plain": [
       "63.951"
      ]
     },
     "execution_count": 28,
     "metadata": {},
     "output_type": "execute_result"
    }
   ],
   "source": [
    "population.iloc[1]"
   ]
  },
  {
   "cell_type": "code",
   "execution_count": 29,
   "id": "c7cccd17",
   "metadata": {},
   "outputs": [
    {
     "data": {
      "text/plain": [
       "Canada             35.467\n",
       "France             63.951\n",
       "Germany            80.940\n",
       "Italy              60.665\n",
       "Japan             127.061\n",
       "United Kingdom     64.511\n",
       "United States     318.523\n",
       "Name: G7 population in millions, dtype: float64"
      ]
     },
     "execution_count": 29,
     "metadata": {},
     "output_type": "execute_result"
    }
   ],
   "source": [
    "population.iloc[0:7]"
   ]
  },
  {
   "cell_type": "code",
   "execution_count": 30,
   "id": "3e7ebdae",
   "metadata": {},
   "outputs": [
    {
     "data": {
      "text/plain": [
       "Index(['Canada', 'France', 'Germany', 'Italy', 'Japan', 'United Kingdom',\n",
       "       'United States'],\n",
       "      dtype='object')"
      ]
     },
     "execution_count": 30,
     "metadata": {},
     "output_type": "execute_result"
    }
   ],
   "source": [
    "population.index"
   ]
  },
  {
   "cell_type": "code",
   "execution_count": 31,
   "id": "958c20ab",
   "metadata": {},
   "outputs": [
    {
     "data": {
      "text/plain": [
       "Canada     35.467\n",
       "France     63.951\n",
       "Germany    80.940\n",
       "Italy      60.665\n",
       "Name: G7 population in millions, dtype: float64"
      ]
     },
     "execution_count": 31,
     "metadata": {},
     "output_type": "execute_result"
    }
   ],
   "source": [
    "population['Canada' : 'Italy']"
   ]
  },
  {
   "cell_type": "code",
   "execution_count": 32,
   "id": "e65d49fb",
   "metadata": {},
   "outputs": [
    {
     "data": {
      "text/plain": [
       "Italy              60.665\n",
       "Japan             127.061\n",
       "United Kingdom     64.511\n",
       "United States     318.523\n",
       "Name: G7 population in millions, dtype: float64"
      ]
     },
     "execution_count": 32,
     "metadata": {},
     "output_type": "execute_result"
    }
   ],
   "source": [
    "population['Italy' : 'United States']"
   ]
  },
  {
   "cell_type": "code",
   "execution_count": 33,
   "id": "0975475c",
   "metadata": {},
   "outputs": [
    {
     "data": {
      "text/plain": [
       "Canada             True\n",
       "France            False\n",
       "Germany           False\n",
       "Italy             False\n",
       "Japan             False\n",
       "United Kingdom    False\n",
       "United States     False\n",
       "Name: G7 population in millions, dtype: bool"
      ]
     },
     "execution_count": 33,
     "metadata": {},
     "output_type": "execute_result"
    }
   ],
   "source": [
    "population < 50"
   ]
  },
  {
   "cell_type": "code",
   "execution_count": 35,
   "id": "2e09b817",
   "metadata": {},
   "outputs": [
    {
     "data": {
      "text/plain": [
       "Canada            False\n",
       "France             True\n",
       "Germany            True\n",
       "Italy              True\n",
       "Japan              True\n",
       "United Kingdom     True\n",
       "United States      True\n",
       "Name: G7 population in millions, dtype: bool"
      ]
     },
     "execution_count": 35,
     "metadata": {},
     "output_type": "execute_result"
    }
   ],
   "source": [
    "population > 50"
   ]
  },
  {
   "cell_type": "code",
   "execution_count": 36,
   "id": "44cc5651",
   "metadata": {},
   "outputs": [
    {
     "data": {
      "text/plain": [
       "107.30257142857144"
      ]
     },
     "execution_count": 36,
     "metadata": {},
     "output_type": "execute_result"
    }
   ],
   "source": [
    "population.mean()"
   ]
  },
  {
   "cell_type": "code",
   "execution_count": 37,
   "id": "faf2070a",
   "metadata": {},
   "outputs": [
    {
     "data": {
      "text/plain": [
       "97.24996987121581"
      ]
     },
     "execution_count": 37,
     "metadata": {},
     "output_type": "execute_result"
    }
   ],
   "source": [
    "population.std()"
   ]
  },
  {
   "cell_type": "code",
   "execution_count": 38,
   "id": "ab982285",
   "metadata": {},
   "outputs": [
    {
     "data": {
      "text/plain": [
       "Canada             3546700.0\n",
       "France             6395100.0\n",
       "Germany            8094000.0\n",
       "Italy              6066500.0\n",
       "Japan             12706100.0\n",
       "United Kingdom     6451100.0\n",
       "United States     31852300.0\n",
       "Name: G7 population in millions, dtype: float64"
      ]
     },
     "execution_count": 38,
     "metadata": {},
     "output_type": "execute_result"
    }
   ],
   "source": [
    "population * 100000"
   ]
  },
  {
   "cell_type": "code",
   "execution_count": 39,
   "id": "c80706ea",
   "metadata": {},
   "outputs": [
    {
     "data": {
      "text/plain": [
       "Canada            3.568603\n",
       "France            4.158117\n",
       "Germany           4.393708\n",
       "Italy             4.105367\n",
       "Japan             4.844667\n",
       "United Kingdom    4.166836\n",
       "United States     5.763695\n",
       "Name: G7 population in millions, dtype: float64"
      ]
     },
     "execution_count": 39,
     "metadata": {},
     "output_type": "execute_result"
    }
   ],
   "source": [
    "np.log(population)"
   ]
  },
  {
   "cell_type": "code",
   "execution_count": 40,
   "id": "9d2550f3",
   "metadata": {},
   "outputs": [
    {
     "data": {
      "text/plain": [
       "Canada             35.467\n",
       "France             63.951\n",
       "Germany            80.940\n",
       "Italy              60.665\n",
       "Japan             127.061\n",
       "United Kingdom     64.511\n",
       "United States     318.523\n",
       "Name: G7 population in millions, dtype: float64"
      ]
     },
     "execution_count": 40,
     "metadata": {},
     "output_type": "execute_result"
    }
   ],
   "source": [
    "population"
   ]
  },
  {
   "cell_type": "code",
   "execution_count": 41,
   "id": "8ec8d0a4",
   "metadata": {},
   "outputs": [
    {
     "data": {
      "text/plain": [
       "79.42559999999999"
      ]
     },
     "execution_count": 41,
     "metadata": {},
     "output_type": "execute_result"
    }
   ],
   "source": [
    "population['France' : 'United Kingdom'].mean()"
   ]
  },
  {
   "cell_type": "code",
   "execution_count": 42,
   "id": "a9af96c1",
   "metadata": {},
   "outputs": [
    {
     "data": {
      "text/plain": [
       "107.30257142857144"
      ]
     },
     "execution_count": 42,
     "metadata": {},
     "output_type": "execute_result"
    }
   ],
   "source": [
    "population['Canada' : 'United States'].mean()"
   ]
  },
  {
   "cell_type": "code",
   "execution_count": 43,
   "id": "8c09cf9a",
   "metadata": {},
   "outputs": [
    {
     "data": {
      "text/plain": [
       "397.12799999999993"
      ]
     },
     "execution_count": 43,
     "metadata": {},
     "output_type": "execute_result"
    }
   ],
   "source": [
    "population['France' : 'United Kingdom'].sum()"
   ]
  },
  {
   "cell_type": "code",
   "execution_count": 44,
   "id": "6b804d3c",
   "metadata": {},
   "outputs": [
    {
     "data": {
      "text/plain": [
       "751.118"
      ]
     },
     "execution_count": 44,
     "metadata": {},
     "output_type": "execute_result"
    }
   ],
   "source": [
    "population['Canada' : 'United States'].sum()"
   ]
  },
  {
   "cell_type": "code",
   "execution_count": 45,
   "id": "1ffed7a2",
   "metadata": {},
   "outputs": [
    {
     "data": {
      "text/plain": [
       "Canada             35.467\n",
       "France             63.951\n",
       "Germany            80.940\n",
       "Italy              60.665\n",
       "Japan             127.061\n",
       "United Kingdom     64.511\n",
       "United States     318.523\n",
       "Name: G7 population in millions, dtype: float64"
      ]
     },
     "execution_count": 45,
     "metadata": {},
     "output_type": "execute_result"
    }
   ],
   "source": [
    "population"
   ]
  },
  {
   "cell_type": "code",
   "execution_count": 46,
   "id": "bbf0e567",
   "metadata": {},
   "outputs": [
    {
     "data": {
      "text/plain": [
       "Canada             35.467\n",
       "France             63.951\n",
       "Germany            81.230\n",
       "Italy              60.665\n",
       "Japan             127.061\n",
       "United Kingdom     64.511\n",
       "United States     318.523\n",
       "Name: G7 population in millions, dtype: float64"
      ]
     },
     "execution_count": 46,
     "metadata": {},
     "output_type": "execute_result"
    }
   ],
   "source": [
    "population['Germany'] = 81.23\n",
    "population"
   ]
  },
  {
   "cell_type": "code",
   "execution_count": 47,
   "id": "13e1ca3f",
   "metadata": {},
   "outputs": [
    {
     "data": {
      "text/plain": [
       "Canada             35.467\n",
       "France             63.951\n",
       "Germany            81.230\n",
       "Italy              60.665\n",
       "Japan             127.061\n",
       "United Kingdom     64.511\n",
       "United States     320.523\n",
       "Name: G7 population in millions, dtype: float64"
      ]
     },
     "execution_count": 47,
     "metadata": {},
     "output_type": "execute_result"
    }
   ],
   "source": [
    "population['United States'] = 320.523\n",
    "population"
   ]
  },
  {
   "cell_type": "code",
   "execution_count": 48,
   "id": "b27919ea",
   "metadata": {},
   "outputs": [
    {
     "data": {
      "text/plain": [
       "Canada             35.467\n",
       "France             63.951\n",
       "Germany            80.833\n",
       "Italy              60.665\n",
       "Japan             127.061\n",
       "United Kingdom     64.511\n",
       "United States     320.523\n",
       "Name: G7 population in millions, dtype: float64"
      ]
     },
     "execution_count": 48,
     "metadata": {},
     "output_type": "execute_result"
    }
   ],
   "source": [
    "population.iloc[2] = 80.833\n",
    "population"
   ]
  },
  {
   "cell_type": "code",
   "execution_count": 49,
   "id": "150c3e66",
   "metadata": {},
   "outputs": [
    {
     "data": {
      "text/plain": [
       "Canada             35.467\n",
       "France             63.951\n",
       "Germany            80.833\n",
       "Italy              60.665\n",
       "Japan             127.061\n",
       "United Kingdom     64.511\n",
       "United States     350.333\n",
       "Name: G7 population in millions, dtype: float64"
      ]
     },
     "execution_count": 49,
     "metadata": {},
     "output_type": "execute_result"
    }
   ],
   "source": [
    "population.iloc[-1] = 350.333\n",
    "population"
   ]
  },
  {
   "cell_type": "code",
   "execution_count": 50,
   "id": "8410f927",
   "metadata": {},
   "outputs": [
    {
     "data": {
      "text/plain": [
       "Canada     35.467\n",
       "France     63.951\n",
       "Germany    80.833\n",
       "Italy      60.665\n",
       "Name: G7 population in millions, dtype: float64"
      ]
     },
     "execution_count": 50,
     "metadata": {},
     "output_type": "execute_result"
    }
   ],
   "source": [
    "population.iloc[0:4]"
   ]
  },
  {
   "cell_type": "code",
   "execution_count": 51,
   "id": "65b1c4c9",
   "metadata": {},
   "outputs": [],
   "source": [
    "df = pd.DataFrame({\n",
    "    'Population': [35.467, 63.951, 80.94 , 60.665, 127.061, 64.511, 318.523],\n",
    "    'GDP': [\n",
    "        1785387,\n",
    "        2833687,\n",
    "        3874437,\n",
    "        2167744,\n",
    "        4602367,\n",
    "        2950039,\n",
    "        17348075\n",
    "    ],\n",
    "    'Surface Area': [\n",
    "        9984670,\n",
    "        640679,\n",
    "        357114,\n",
    "        301336,\n",
    "        377930,\n",
    "        242495,\n",
    "        9525067\n",
    "    ],\n",
    "    'HDI': [\n",
    "        0.913,\n",
    "        0.888,\n",
    "        0.916,\n",
    "        0.873,\n",
    "        0.891,\n",
    "        0.907,\n",
    "        0.915\n",
    "    ],\n",
    "    'Continent': [\n",
    "        'America',\n",
    "        'Europe',\n",
    "        'Europe',\n",
    "        'Europe',\n",
    "        'Asia',\n",
    "        'Europe',\n",
    "        'America'\n",
    "    ]\n",
    "}, columns=['Population', 'GDP', 'Surface Area', 'HDI', 'Continent'])"
   ]
  },
  {
   "cell_type": "code",
   "execution_count": 52,
   "id": "0afac08f",
   "metadata": {},
   "outputs": [
    {
     "data": {
      "text/html": [
       "<div>\n",
       "<style scoped>\n",
       "    .dataframe tbody tr th:only-of-type {\n",
       "        vertical-align: middle;\n",
       "    }\n",
       "\n",
       "    .dataframe tbody tr th {\n",
       "        vertical-align: top;\n",
       "    }\n",
       "\n",
       "    .dataframe thead th {\n",
       "        text-align: right;\n",
       "    }\n",
       "</style>\n",
       "<table border=\"1\" class=\"dataframe\">\n",
       "  <thead>\n",
       "    <tr style=\"text-align: right;\">\n",
       "      <th></th>\n",
       "      <th>Population</th>\n",
       "      <th>GDP</th>\n",
       "      <th>Surface Area</th>\n",
       "      <th>HDI</th>\n",
       "      <th>Continent</th>\n",
       "    </tr>\n",
       "  </thead>\n",
       "  <tbody>\n",
       "    <tr>\n",
       "      <th>0</th>\n",
       "      <td>35.467</td>\n",
       "      <td>1785387</td>\n",
       "      <td>9984670</td>\n",
       "      <td>0.913</td>\n",
       "      <td>America</td>\n",
       "    </tr>\n",
       "    <tr>\n",
       "      <th>1</th>\n",
       "      <td>63.951</td>\n",
       "      <td>2833687</td>\n",
       "      <td>640679</td>\n",
       "      <td>0.888</td>\n",
       "      <td>Europe</td>\n",
       "    </tr>\n",
       "    <tr>\n",
       "      <th>2</th>\n",
       "      <td>80.940</td>\n",
       "      <td>3874437</td>\n",
       "      <td>357114</td>\n",
       "      <td>0.916</td>\n",
       "      <td>Europe</td>\n",
       "    </tr>\n",
       "    <tr>\n",
       "      <th>3</th>\n",
       "      <td>60.665</td>\n",
       "      <td>2167744</td>\n",
       "      <td>301336</td>\n",
       "      <td>0.873</td>\n",
       "      <td>Europe</td>\n",
       "    </tr>\n",
       "    <tr>\n",
       "      <th>4</th>\n",
       "      <td>127.061</td>\n",
       "      <td>4602367</td>\n",
       "      <td>377930</td>\n",
       "      <td>0.891</td>\n",
       "      <td>Asia</td>\n",
       "    </tr>\n",
       "    <tr>\n",
       "      <th>5</th>\n",
       "      <td>64.511</td>\n",
       "      <td>2950039</td>\n",
       "      <td>242495</td>\n",
       "      <td>0.907</td>\n",
       "      <td>Europe</td>\n",
       "    </tr>\n",
       "    <tr>\n",
       "      <th>6</th>\n",
       "      <td>318.523</td>\n",
       "      <td>17348075</td>\n",
       "      <td>9525067</td>\n",
       "      <td>0.915</td>\n",
       "      <td>America</td>\n",
       "    </tr>\n",
       "  </tbody>\n",
       "</table>\n",
       "</div>"
      ],
      "text/plain": [
       "   Population       GDP  Surface Area    HDI Continent\n",
       "0      35.467   1785387       9984670  0.913   America\n",
       "1      63.951   2833687        640679  0.888    Europe\n",
       "2      80.940   3874437        357114  0.916    Europe\n",
       "3      60.665   2167744        301336  0.873    Europe\n",
       "4     127.061   4602367        377930  0.891      Asia\n",
       "5      64.511   2950039        242495  0.907    Europe\n",
       "6     318.523  17348075       9525067  0.915   America"
      ]
     },
     "execution_count": 52,
     "metadata": {},
     "output_type": "execute_result"
    }
   ],
   "source": [
    "df"
   ]
  },
  {
   "cell_type": "code",
   "execution_count": 53,
   "id": "30c676e8",
   "metadata": {},
   "outputs": [],
   "source": [
    "df.index = [\n",
    "    'Canada',\n",
    "    'France',\n",
    "    'Germany',\n",
    "    'Italy',\n",
    "    'Japan',\n",
    "    'United Kingdom',\n",
    "    'United States',\n",
    "]"
   ]
  },
  {
   "cell_type": "code",
   "execution_count": 54,
   "id": "8b7dfa16",
   "metadata": {},
   "outputs": [
    {
     "data": {
      "text/html": [
       "<div>\n",
       "<style scoped>\n",
       "    .dataframe tbody tr th:only-of-type {\n",
       "        vertical-align: middle;\n",
       "    }\n",
       "\n",
       "    .dataframe tbody tr th {\n",
       "        vertical-align: top;\n",
       "    }\n",
       "\n",
       "    .dataframe thead th {\n",
       "        text-align: right;\n",
       "    }\n",
       "</style>\n",
       "<table border=\"1\" class=\"dataframe\">\n",
       "  <thead>\n",
       "    <tr style=\"text-align: right;\">\n",
       "      <th></th>\n",
       "      <th>Population</th>\n",
       "      <th>GDP</th>\n",
       "      <th>Surface Area</th>\n",
       "      <th>HDI</th>\n",
       "      <th>Continent</th>\n",
       "    </tr>\n",
       "  </thead>\n",
       "  <tbody>\n",
       "    <tr>\n",
       "      <th>Canada</th>\n",
       "      <td>35.467</td>\n",
       "      <td>1785387</td>\n",
       "      <td>9984670</td>\n",
       "      <td>0.913</td>\n",
       "      <td>America</td>\n",
       "    </tr>\n",
       "    <tr>\n",
       "      <th>France</th>\n",
       "      <td>63.951</td>\n",
       "      <td>2833687</td>\n",
       "      <td>640679</td>\n",
       "      <td>0.888</td>\n",
       "      <td>Europe</td>\n",
       "    </tr>\n",
       "    <tr>\n",
       "      <th>Germany</th>\n",
       "      <td>80.940</td>\n",
       "      <td>3874437</td>\n",
       "      <td>357114</td>\n",
       "      <td>0.916</td>\n",
       "      <td>Europe</td>\n",
       "    </tr>\n",
       "    <tr>\n",
       "      <th>Italy</th>\n",
       "      <td>60.665</td>\n",
       "      <td>2167744</td>\n",
       "      <td>301336</td>\n",
       "      <td>0.873</td>\n",
       "      <td>Europe</td>\n",
       "    </tr>\n",
       "    <tr>\n",
       "      <th>Japan</th>\n",
       "      <td>127.061</td>\n",
       "      <td>4602367</td>\n",
       "      <td>377930</td>\n",
       "      <td>0.891</td>\n",
       "      <td>Asia</td>\n",
       "    </tr>\n",
       "    <tr>\n",
       "      <th>United Kingdom</th>\n",
       "      <td>64.511</td>\n",
       "      <td>2950039</td>\n",
       "      <td>242495</td>\n",
       "      <td>0.907</td>\n",
       "      <td>Europe</td>\n",
       "    </tr>\n",
       "    <tr>\n",
       "      <th>United States</th>\n",
       "      <td>318.523</td>\n",
       "      <td>17348075</td>\n",
       "      <td>9525067</td>\n",
       "      <td>0.915</td>\n",
       "      <td>America</td>\n",
       "    </tr>\n",
       "  </tbody>\n",
       "</table>\n",
       "</div>"
      ],
      "text/plain": [
       "                Population       GDP  Surface Area    HDI Continent\n",
       "Canada              35.467   1785387       9984670  0.913   America\n",
       "France              63.951   2833687        640679  0.888    Europe\n",
       "Germany             80.940   3874437        357114  0.916    Europe\n",
       "Italy               60.665   2167744        301336  0.873    Europe\n",
       "Japan              127.061   4602367        377930  0.891      Asia\n",
       "United Kingdom      64.511   2950039        242495  0.907    Europe\n",
       "United States      318.523  17348075       9525067  0.915   America"
      ]
     },
     "execution_count": 54,
     "metadata": {},
     "output_type": "execute_result"
    }
   ],
   "source": [
    "df"
   ]
  },
  {
   "cell_type": "code",
   "execution_count": 55,
   "id": "637fca06",
   "metadata": {},
   "outputs": [
    {
     "data": {
      "text/plain": [
       "(7, 5)"
      ]
     },
     "execution_count": 55,
     "metadata": {},
     "output_type": "execute_result"
    }
   ],
   "source": [
    "df.shape"
   ]
  },
  {
   "cell_type": "code",
   "execution_count": 57,
   "id": "ff7e7b9b",
   "metadata": {},
   "outputs": [
    {
     "data": {
      "text/plain": [
       "Index(['Population', 'GDP', 'Surface Area', 'HDI', 'Continent'], dtype='object')"
      ]
     },
     "execution_count": 57,
     "metadata": {},
     "output_type": "execute_result"
    }
   ],
   "source": [
    "df.columns"
   ]
  },
  {
   "cell_type": "code",
   "execution_count": 58,
   "id": "93b2470c",
   "metadata": {},
   "outputs": [
    {
     "data": {
      "text/plain": [
       "Index(['Canada', 'France', 'Germany', 'Italy', 'Japan', 'United Kingdom',\n",
       "       'United States'],\n",
       "      dtype='object')"
      ]
     },
     "execution_count": 58,
     "metadata": {},
     "output_type": "execute_result"
    }
   ],
   "source": [
    "df.index"
   ]
  },
  {
   "cell_type": "code",
   "execution_count": 59,
   "id": "5425b6f0",
   "metadata": {},
   "outputs": [
    {
     "data": {
      "text/html": [
       "<div>\n",
       "<style scoped>\n",
       "    .dataframe tbody tr th:only-of-type {\n",
       "        vertical-align: middle;\n",
       "    }\n",
       "\n",
       "    .dataframe tbody tr th {\n",
       "        vertical-align: top;\n",
       "    }\n",
       "\n",
       "    .dataframe thead th {\n",
       "        text-align: right;\n",
       "    }\n",
       "</style>\n",
       "<table border=\"1\" class=\"dataframe\">\n",
       "  <thead>\n",
       "    <tr style=\"text-align: right;\">\n",
       "      <th></th>\n",
       "      <th>Population</th>\n",
       "      <th>GDP</th>\n",
       "      <th>Surface Area</th>\n",
       "      <th>HDI</th>\n",
       "      <th>Continent</th>\n",
       "    </tr>\n",
       "  </thead>\n",
       "  <tbody>\n",
       "    <tr>\n",
       "      <th>Canada</th>\n",
       "      <td>35.467</td>\n",
       "      <td>1785387</td>\n",
       "      <td>9984670</td>\n",
       "      <td>0.913</td>\n",
       "      <td>America</td>\n",
       "    </tr>\n",
       "    <tr>\n",
       "      <th>France</th>\n",
       "      <td>63.951</td>\n",
       "      <td>2833687</td>\n",
       "      <td>640679</td>\n",
       "      <td>0.888</td>\n",
       "      <td>Europe</td>\n",
       "    </tr>\n",
       "    <tr>\n",
       "      <th>Germany</th>\n",
       "      <td>80.940</td>\n",
       "      <td>3874437</td>\n",
       "      <td>357114</td>\n",
       "      <td>0.916</td>\n",
       "      <td>Europe</td>\n",
       "    </tr>\n",
       "    <tr>\n",
       "      <th>Italy</th>\n",
       "      <td>60.665</td>\n",
       "      <td>2167744</td>\n",
       "      <td>301336</td>\n",
       "      <td>0.873</td>\n",
       "      <td>Europe</td>\n",
       "    </tr>\n",
       "    <tr>\n",
       "      <th>Japan</th>\n",
       "      <td>127.061</td>\n",
       "      <td>4602367</td>\n",
       "      <td>377930</td>\n",
       "      <td>0.891</td>\n",
       "      <td>Asia</td>\n",
       "    </tr>\n",
       "    <tr>\n",
       "      <th>United Kingdom</th>\n",
       "      <td>64.511</td>\n",
       "      <td>2950039</td>\n",
       "      <td>242495</td>\n",
       "      <td>0.907</td>\n",
       "      <td>Europe</td>\n",
       "    </tr>\n",
       "    <tr>\n",
       "      <th>United States</th>\n",
       "      <td>318.523</td>\n",
       "      <td>17348075</td>\n",
       "      <td>9525067</td>\n",
       "      <td>0.915</td>\n",
       "      <td>America</td>\n",
       "    </tr>\n",
       "  </tbody>\n",
       "</table>\n",
       "</div>"
      ],
      "text/plain": [
       "                Population       GDP  Surface Area    HDI Continent\n",
       "Canada              35.467   1785387       9984670  0.913   America\n",
       "France              63.951   2833687        640679  0.888    Europe\n",
       "Germany             80.940   3874437        357114  0.916    Europe\n",
       "Italy               60.665   2167744        301336  0.873    Europe\n",
       "Japan              127.061   4602367        377930  0.891      Asia\n",
       "United Kingdom      64.511   2950039        242495  0.907    Europe\n",
       "United States      318.523  17348075       9525067  0.915   America"
      ]
     },
     "execution_count": 59,
     "metadata": {},
     "output_type": "execute_result"
    }
   ],
   "source": [
    "df"
   ]
  },
  {
   "cell_type": "code",
   "execution_count": 60,
   "id": "0b07b2d8",
   "metadata": {},
   "outputs": [
    {
     "name": "stdout",
     "output_type": "stream",
     "text": [
      "<class 'pandas.core.frame.DataFrame'>\n",
      "Index: 7 entries, Canada to United States\n",
      "Data columns (total 5 columns):\n",
      " #   Column        Non-Null Count  Dtype  \n",
      "---  ------        --------------  -----  \n",
      " 0   Population    7 non-null      float64\n",
      " 1   GDP           7 non-null      int64  \n",
      " 2   Surface Area  7 non-null      int64  \n",
      " 3   HDI           7 non-null      float64\n",
      " 4   Continent     7 non-null      object \n",
      "dtypes: float64(2), int64(2), object(1)\n",
      "memory usage: 336.0+ bytes\n"
     ]
    }
   ],
   "source": [
    "df.info()"
   ]
  },
  {
   "cell_type": "code",
   "execution_count": 62,
   "id": "7dff698d",
   "metadata": {},
   "outputs": [
    {
     "data": {
      "text/plain": [
       "35"
      ]
     },
     "execution_count": 62,
     "metadata": {},
     "output_type": "execute_result"
    }
   ],
   "source": [
    "df.size"
   ]
  },
  {
   "cell_type": "code",
   "execution_count": 64,
   "id": "46946830",
   "metadata": {},
   "outputs": [
    {
     "data": {
      "text/html": [
       "<div>\n",
       "<style scoped>\n",
       "    .dataframe tbody tr th:only-of-type {\n",
       "        vertical-align: middle;\n",
       "    }\n",
       "\n",
       "    .dataframe tbody tr th {\n",
       "        vertical-align: top;\n",
       "    }\n",
       "\n",
       "    .dataframe thead th {\n",
       "        text-align: right;\n",
       "    }\n",
       "</style>\n",
       "<table border=\"1\" class=\"dataframe\">\n",
       "  <thead>\n",
       "    <tr style=\"text-align: right;\">\n",
       "      <th></th>\n",
       "      <th>Population</th>\n",
       "      <th>GDP</th>\n",
       "      <th>Surface Area</th>\n",
       "      <th>HDI</th>\n",
       "    </tr>\n",
       "  </thead>\n",
       "  <tbody>\n",
       "    <tr>\n",
       "      <th>count</th>\n",
       "      <td>7.000000</td>\n",
       "      <td>7.000000e+00</td>\n",
       "      <td>7.000000e+00</td>\n",
       "      <td>7.000000</td>\n",
       "    </tr>\n",
       "    <tr>\n",
       "      <th>mean</th>\n",
       "      <td>107.302571</td>\n",
       "      <td>5.080248e+06</td>\n",
       "      <td>3.061327e+06</td>\n",
       "      <td>0.900429</td>\n",
       "    </tr>\n",
       "    <tr>\n",
       "      <th>std</th>\n",
       "      <td>97.249970</td>\n",
       "      <td>5.494020e+06</td>\n",
       "      <td>4.576187e+06</td>\n",
       "      <td>0.016592</td>\n",
       "    </tr>\n",
       "    <tr>\n",
       "      <th>min</th>\n",
       "      <td>35.467000</td>\n",
       "      <td>1.785387e+06</td>\n",
       "      <td>2.424950e+05</td>\n",
       "      <td>0.873000</td>\n",
       "    </tr>\n",
       "    <tr>\n",
       "      <th>25%</th>\n",
       "      <td>62.308000</td>\n",
       "      <td>2.500716e+06</td>\n",
       "      <td>3.292250e+05</td>\n",
       "      <td>0.889500</td>\n",
       "    </tr>\n",
       "    <tr>\n",
       "      <th>50%</th>\n",
       "      <td>64.511000</td>\n",
       "      <td>2.950039e+06</td>\n",
       "      <td>3.779300e+05</td>\n",
       "      <td>0.907000</td>\n",
       "    </tr>\n",
       "    <tr>\n",
       "      <th>75%</th>\n",
       "      <td>104.000500</td>\n",
       "      <td>4.238402e+06</td>\n",
       "      <td>5.082873e+06</td>\n",
       "      <td>0.914000</td>\n",
       "    </tr>\n",
       "    <tr>\n",
       "      <th>max</th>\n",
       "      <td>318.523000</td>\n",
       "      <td>1.734808e+07</td>\n",
       "      <td>9.984670e+06</td>\n",
       "      <td>0.916000</td>\n",
       "    </tr>\n",
       "  </tbody>\n",
       "</table>\n",
       "</div>"
      ],
      "text/plain": [
       "       Population           GDP  Surface Area       HDI\n",
       "count    7.000000  7.000000e+00  7.000000e+00  7.000000\n",
       "mean   107.302571  5.080248e+06  3.061327e+06  0.900429\n",
       "std     97.249970  5.494020e+06  4.576187e+06  0.016592\n",
       "min     35.467000  1.785387e+06  2.424950e+05  0.873000\n",
       "25%     62.308000  2.500716e+06  3.292250e+05  0.889500\n",
       "50%     64.511000  2.950039e+06  3.779300e+05  0.907000\n",
       "75%    104.000500  4.238402e+06  5.082873e+06  0.914000\n",
       "max    318.523000  1.734808e+07  9.984670e+06  0.916000"
      ]
     },
     "execution_count": 64,
     "metadata": {},
     "output_type": "execute_result"
    }
   ],
   "source": [
    "df.describe()"
   ]
  },
  {
   "cell_type": "code",
   "execution_count": 65,
   "id": "11a9dd07",
   "metadata": {},
   "outputs": [
    {
     "data": {
      "text/plain": [
       "Population      float64\n",
       "GDP               int64\n",
       "Surface Area      int64\n",
       "HDI             float64\n",
       "Continent        object\n",
       "dtype: object"
      ]
     },
     "execution_count": 65,
     "metadata": {},
     "output_type": "execute_result"
    }
   ],
   "source": [
    "df.dtypes"
   ]
  },
  {
   "cell_type": "code",
   "execution_count": 68,
   "id": "132deb78",
   "metadata": {},
   "outputs": [
    {
     "data": {
      "text/plain": [
       "float64    2\n",
       "int64      2\n",
       "object     1\n",
       "Name: count, dtype: int64"
      ]
     },
     "execution_count": 68,
     "metadata": {},
     "output_type": "execute_result"
    }
   ],
   "source": [
    "df.dtypes.value_counts()"
   ]
  },
  {
   "cell_type": "code",
   "execution_count": 69,
   "id": "4779b45c",
   "metadata": {},
   "outputs": [
    {
     "data": {
      "text/html": [
       "<div>\n",
       "<style scoped>\n",
       "    .dataframe tbody tr th:only-of-type {\n",
       "        vertical-align: middle;\n",
       "    }\n",
       "\n",
       "    .dataframe tbody tr th {\n",
       "        vertical-align: top;\n",
       "    }\n",
       "\n",
       "    .dataframe thead th {\n",
       "        text-align: right;\n",
       "    }\n",
       "</style>\n",
       "<table border=\"1\" class=\"dataframe\">\n",
       "  <thead>\n",
       "    <tr style=\"text-align: right;\">\n",
       "      <th></th>\n",
       "      <th>Population</th>\n",
       "      <th>GDP</th>\n",
       "      <th>Surface Area</th>\n",
       "      <th>HDI</th>\n",
       "      <th>Continent</th>\n",
       "    </tr>\n",
       "  </thead>\n",
       "  <tbody>\n",
       "    <tr>\n",
       "      <th>Canada</th>\n",
       "      <td>35.467</td>\n",
       "      <td>1785387</td>\n",
       "      <td>9984670</td>\n",
       "      <td>0.913</td>\n",
       "      <td>America</td>\n",
       "    </tr>\n",
       "    <tr>\n",
       "      <th>France</th>\n",
       "      <td>63.951</td>\n",
       "      <td>2833687</td>\n",
       "      <td>640679</td>\n",
       "      <td>0.888</td>\n",
       "      <td>Europe</td>\n",
       "    </tr>\n",
       "    <tr>\n",
       "      <th>Germany</th>\n",
       "      <td>80.940</td>\n",
       "      <td>3874437</td>\n",
       "      <td>357114</td>\n",
       "      <td>0.916</td>\n",
       "      <td>Europe</td>\n",
       "    </tr>\n",
       "    <tr>\n",
       "      <th>Italy</th>\n",
       "      <td>60.665</td>\n",
       "      <td>2167744</td>\n",
       "      <td>301336</td>\n",
       "      <td>0.873</td>\n",
       "      <td>Europe</td>\n",
       "    </tr>\n",
       "    <tr>\n",
       "      <th>Japan</th>\n",
       "      <td>127.061</td>\n",
       "      <td>4602367</td>\n",
       "      <td>377930</td>\n",
       "      <td>0.891</td>\n",
       "      <td>Asia</td>\n",
       "    </tr>\n",
       "    <tr>\n",
       "      <th>United Kingdom</th>\n",
       "      <td>64.511</td>\n",
       "      <td>2950039</td>\n",
       "      <td>242495</td>\n",
       "      <td>0.907</td>\n",
       "      <td>Europe</td>\n",
       "    </tr>\n",
       "    <tr>\n",
       "      <th>United States</th>\n",
       "      <td>318.523</td>\n",
       "      <td>17348075</td>\n",
       "      <td>9525067</td>\n",
       "      <td>0.915</td>\n",
       "      <td>America</td>\n",
       "    </tr>\n",
       "  </tbody>\n",
       "</table>\n",
       "</div>"
      ],
      "text/plain": [
       "                Population       GDP  Surface Area    HDI Continent\n",
       "Canada              35.467   1785387       9984670  0.913   America\n",
       "France              63.951   2833687        640679  0.888    Europe\n",
       "Germany             80.940   3874437        357114  0.916    Europe\n",
       "Italy               60.665   2167744        301336  0.873    Europe\n",
       "Japan              127.061   4602367        377930  0.891      Asia\n",
       "United Kingdom      64.511   2950039        242495  0.907    Europe\n",
       "United States      318.523  17348075       9525067  0.915   America"
      ]
     },
     "execution_count": 69,
     "metadata": {},
     "output_type": "execute_result"
    }
   ],
   "source": [
    "df"
   ]
  },
  {
   "cell_type": "code",
   "execution_count": 70,
   "id": "bccb98f3",
   "metadata": {},
   "outputs": [
    {
     "data": {
      "text/plain": [
       "Population       35.467\n",
       "GDP             1785387\n",
       "Surface Area    9984670\n",
       "HDI               0.913\n",
       "Continent       America\n",
       "Name: Canada, dtype: object"
      ]
     },
     "execution_count": 70,
     "metadata": {},
     "output_type": "execute_result"
    }
   ],
   "source": [
    "df.loc['Canada']"
   ]
  },
  {
   "cell_type": "code",
   "execution_count": 71,
   "id": "22638c16",
   "metadata": {},
   "outputs": [
    {
     "data": {
      "text/plain": [
       "Population       64.511\n",
       "GDP             2950039\n",
       "Surface Area     242495\n",
       "HDI               0.907\n",
       "Continent        Europe\n",
       "Name: United Kingdom, dtype: object"
      ]
     },
     "execution_count": 71,
     "metadata": {},
     "output_type": "execute_result"
    }
   ],
   "source": [
    "df.loc['United Kingdom']"
   ]
  },
  {
   "cell_type": "code",
   "execution_count": 72,
   "id": "700576a2",
   "metadata": {},
   "outputs": [
    {
     "data": {
      "text/plain": [
       "Population       318.523\n",
       "GDP             17348075\n",
       "Surface Area     9525067\n",
       "HDI                0.915\n",
       "Continent        America\n",
       "Name: United States, dtype: object"
      ]
     },
     "execution_count": 72,
     "metadata": {},
     "output_type": "execute_result"
    }
   ],
   "source": [
    "df.iloc[-1]"
   ]
  },
  {
   "cell_type": "code",
   "execution_count": 73,
   "id": "8ff5ff07",
   "metadata": {},
   "outputs": [
    {
     "data": {
      "text/plain": [
       "Population       318.523\n",
       "GDP             17348075\n",
       "Surface Area     9525067\n",
       "HDI                0.915\n",
       "Continent        America\n",
       "Name: United States, dtype: object"
      ]
     },
     "execution_count": 73,
     "metadata": {},
     "output_type": "execute_result"
    }
   ],
   "source": [
    "df.loc['United States']"
   ]
  },
  {
   "cell_type": "code",
   "execution_count": 74,
   "id": "7fbde9a1",
   "metadata": {},
   "outputs": [
    {
     "data": {
      "text/plain": [
       "Population       64.511\n",
       "GDP             2950039\n",
       "Surface Area     242495\n",
       "HDI               0.907\n",
       "Continent        Europe\n",
       "Name: United Kingdom, dtype: object"
      ]
     },
     "execution_count": 74,
     "metadata": {},
     "output_type": "execute_result"
    }
   ],
   "source": [
    "df.iloc[5]"
   ]
  },
  {
   "cell_type": "code",
   "execution_count": 75,
   "id": "999f19c2",
   "metadata": {},
   "outputs": [
    {
     "data": {
      "text/plain": [
       "Population       35.467\n",
       "GDP             1785387\n",
       "Surface Area    9984670\n",
       "HDI               0.913\n",
       "Continent       America\n",
       "Name: Canada, dtype: object"
      ]
     },
     "execution_count": 75,
     "metadata": {},
     "output_type": "execute_result"
    }
   ],
   "source": [
    "df.iloc[0]"
   ]
  },
  {
   "cell_type": "code",
   "execution_count": 76,
   "id": "d77a7207",
   "metadata": {},
   "outputs": [
    {
     "data": {
      "text/plain": [
       "Population       35.467\n",
       "GDP             1785387\n",
       "Surface Area    9984670\n",
       "HDI               0.913\n",
       "Continent       America\n",
       "Name: Canada, dtype: object"
      ]
     },
     "execution_count": 76,
     "metadata": {},
     "output_type": "execute_result"
    }
   ],
   "source": [
    "df.iloc[-7]"
   ]
  },
  {
   "cell_type": "code",
   "execution_count": 78,
   "id": "16607746",
   "metadata": {},
   "outputs": [
    {
     "data": {
      "text/plain": [
       "Population       60.665\n",
       "GDP             2167744\n",
       "Surface Area     301336\n",
       "HDI               0.873\n",
       "Continent        Europe\n",
       "Name: Italy, dtype: object"
      ]
     },
     "execution_count": 78,
     "metadata": {},
     "output_type": "execute_result"
    }
   ],
   "source": [
    "df.loc['Italy']"
   ]
  },
  {
   "cell_type": "code",
   "execution_count": 79,
   "id": "0e9249b6",
   "metadata": {},
   "outputs": [
    {
     "data": {
      "text/plain": [
       "Population       63.951\n",
       "GDP             2833687\n",
       "Surface Area     640679\n",
       "HDI               0.888\n",
       "Continent        Europe\n",
       "Name: France, dtype: object"
      ]
     },
     "execution_count": 79,
     "metadata": {},
     "output_type": "execute_result"
    }
   ],
   "source": [
    "df.loc['France']"
   ]
  },
  {
   "cell_type": "code",
   "execution_count": 80,
   "id": "a6ecd115",
   "metadata": {},
   "outputs": [
    {
     "data": {
      "text/html": [
       "<div>\n",
       "<style scoped>\n",
       "    .dataframe tbody tr th:only-of-type {\n",
       "        vertical-align: middle;\n",
       "    }\n",
       "\n",
       "    .dataframe tbody tr th {\n",
       "        vertical-align: top;\n",
       "    }\n",
       "\n",
       "    .dataframe thead th {\n",
       "        text-align: right;\n",
       "    }\n",
       "</style>\n",
       "<table border=\"1\" class=\"dataframe\">\n",
       "  <thead>\n",
       "    <tr style=\"text-align: right;\">\n",
       "      <th></th>\n",
       "      <th>Population</th>\n",
       "      <th>GDP</th>\n",
       "      <th>Surface Area</th>\n",
       "      <th>HDI</th>\n",
       "      <th>Continent</th>\n",
       "    </tr>\n",
       "  </thead>\n",
       "  <tbody>\n",
       "    <tr>\n",
       "      <th>Canada</th>\n",
       "      <td>35.467</td>\n",
       "      <td>1785387</td>\n",
       "      <td>9984670</td>\n",
       "      <td>0.913</td>\n",
       "      <td>America</td>\n",
       "    </tr>\n",
       "    <tr>\n",
       "      <th>France</th>\n",
       "      <td>63.951</td>\n",
       "      <td>2833687</td>\n",
       "      <td>640679</td>\n",
       "      <td>0.888</td>\n",
       "      <td>Europe</td>\n",
       "    </tr>\n",
       "    <tr>\n",
       "      <th>Germany</th>\n",
       "      <td>80.940</td>\n",
       "      <td>3874437</td>\n",
       "      <td>357114</td>\n",
       "      <td>0.916</td>\n",
       "      <td>Europe</td>\n",
       "    </tr>\n",
       "    <tr>\n",
       "      <th>Italy</th>\n",
       "      <td>60.665</td>\n",
       "      <td>2167744</td>\n",
       "      <td>301336</td>\n",
       "      <td>0.873</td>\n",
       "      <td>Europe</td>\n",
       "    </tr>\n",
       "    <tr>\n",
       "      <th>Japan</th>\n",
       "      <td>127.061</td>\n",
       "      <td>4602367</td>\n",
       "      <td>377930</td>\n",
       "      <td>0.891</td>\n",
       "      <td>Asia</td>\n",
       "    </tr>\n",
       "    <tr>\n",
       "      <th>United Kingdom</th>\n",
       "      <td>64.511</td>\n",
       "      <td>2950039</td>\n",
       "      <td>242495</td>\n",
       "      <td>0.907</td>\n",
       "      <td>Europe</td>\n",
       "    </tr>\n",
       "    <tr>\n",
       "      <th>United States</th>\n",
       "      <td>318.523</td>\n",
       "      <td>17348075</td>\n",
       "      <td>9525067</td>\n",
       "      <td>0.915</td>\n",
       "      <td>America</td>\n",
       "    </tr>\n",
       "  </tbody>\n",
       "</table>\n",
       "</div>"
      ],
      "text/plain": [
       "                Population       GDP  Surface Area    HDI Continent\n",
       "Canada              35.467   1785387       9984670  0.913   America\n",
       "France              63.951   2833687        640679  0.888    Europe\n",
       "Germany             80.940   3874437        357114  0.916    Europe\n",
       "Italy               60.665   2167744        301336  0.873    Europe\n",
       "Japan              127.061   4602367        377930  0.891      Asia\n",
       "United Kingdom      64.511   2950039        242495  0.907    Europe\n",
       "United States      318.523  17348075       9525067  0.915   America"
      ]
     },
     "execution_count": 80,
     "metadata": {},
     "output_type": "execute_result"
    }
   ],
   "source": [
    "df"
   ]
  },
  {
   "cell_type": "code",
   "execution_count": 82,
   "id": "f28d9371",
   "metadata": {},
   "outputs": [
    {
     "data": {
      "text/plain": [
       "Canada             35.467\n",
       "France             63.951\n",
       "Germany            80.940\n",
       "Italy              60.665\n",
       "Japan             127.061\n",
       "United Kingdom     64.511\n",
       "United States     318.523\n",
       "Name: Population, dtype: float64"
      ]
     },
     "execution_count": 82,
     "metadata": {},
     "output_type": "execute_result"
    }
   ],
   "source": [
    "df['Population']"
   ]
  },
  {
   "cell_type": "code",
   "execution_count": 89,
   "id": "9f15a97d",
   "metadata": {},
   "outputs": [],
   "source": [
    "df.column=[['GDP', 'Surface Area']]"
   ]
  },
  {
   "cell_type": "code",
   "execution_count": 90,
   "id": "3674543a",
   "metadata": {},
   "outputs": [
    {
     "data": {
      "text/html": [
       "<div>\n",
       "<style scoped>\n",
       "    .dataframe tbody tr th:only-of-type {\n",
       "        vertical-align: middle;\n",
       "    }\n",
       "\n",
       "    .dataframe tbody tr th {\n",
       "        vertical-align: top;\n",
       "    }\n",
       "\n",
       "    .dataframe thead th {\n",
       "        text-align: right;\n",
       "    }\n",
       "</style>\n",
       "<table border=\"1\" class=\"dataframe\">\n",
       "  <thead>\n",
       "    <tr style=\"text-align: right;\">\n",
       "      <th></th>\n",
       "      <th>Population</th>\n",
       "      <th>GDP</th>\n",
       "    </tr>\n",
       "  </thead>\n",
       "  <tbody>\n",
       "    <tr>\n",
       "      <th>Canada</th>\n",
       "      <td>35.467</td>\n",
       "      <td>1785387</td>\n",
       "    </tr>\n",
       "    <tr>\n",
       "      <th>France</th>\n",
       "      <td>63.951</td>\n",
       "      <td>2833687</td>\n",
       "    </tr>\n",
       "    <tr>\n",
       "      <th>Germany</th>\n",
       "      <td>80.940</td>\n",
       "      <td>3874437</td>\n",
       "    </tr>\n",
       "    <tr>\n",
       "      <th>Italy</th>\n",
       "      <td>60.665</td>\n",
       "      <td>2167744</td>\n",
       "    </tr>\n",
       "    <tr>\n",
       "      <th>Japan</th>\n",
       "      <td>127.061</td>\n",
       "      <td>4602367</td>\n",
       "    </tr>\n",
       "    <tr>\n",
       "      <th>United Kingdom</th>\n",
       "      <td>64.511</td>\n",
       "      <td>2950039</td>\n",
       "    </tr>\n",
       "    <tr>\n",
       "      <th>United States</th>\n",
       "      <td>318.523</td>\n",
       "      <td>17348075</td>\n",
       "    </tr>\n",
       "  </tbody>\n",
       "</table>\n",
       "</div>"
      ],
      "text/plain": [
       "                Population       GDP\n",
       "Canada              35.467   1785387\n",
       "France              63.951   2833687\n",
       "Germany             80.940   3874437\n",
       "Italy               60.665   2167744\n",
       "Japan              127.061   4602367\n",
       "United Kingdom      64.511   2950039\n",
       "United States      318.523  17348075"
      ]
     },
     "execution_count": 90,
     "metadata": {},
     "output_type": "execute_result"
    }
   ],
   "source": [
    "df[['Population', 'GDP']]"
   ]
  },
  {
   "cell_type": "code",
   "execution_count": 91,
   "id": "1f90beb4",
   "metadata": {},
   "outputs": [
    {
     "data": {
      "text/html": [
       "<div>\n",
       "<style scoped>\n",
       "    .dataframe tbody tr th:only-of-type {\n",
       "        vertical-align: middle;\n",
       "    }\n",
       "\n",
       "    .dataframe tbody tr th {\n",
       "        vertical-align: top;\n",
       "    }\n",
       "\n",
       "    .dataframe thead th {\n",
       "        text-align: right;\n",
       "    }\n",
       "</style>\n",
       "<table border=\"1\" class=\"dataframe\">\n",
       "  <thead>\n",
       "    <tr style=\"text-align: right;\">\n",
       "      <th></th>\n",
       "      <th>Population</th>\n",
       "      <th>GDP</th>\n",
       "      <th>Surface Area</th>\n",
       "      <th>HDI</th>\n",
       "      <th>Continent</th>\n",
       "    </tr>\n",
       "  </thead>\n",
       "  <tbody>\n",
       "    <tr>\n",
       "      <th>Canada</th>\n",
       "      <td>35.467</td>\n",
       "      <td>1785387</td>\n",
       "      <td>9984670</td>\n",
       "      <td>0.913</td>\n",
       "      <td>America</td>\n",
       "    </tr>\n",
       "    <tr>\n",
       "      <th>France</th>\n",
       "      <td>63.951</td>\n",
       "      <td>2833687</td>\n",
       "      <td>640679</td>\n",
       "      <td>0.888</td>\n",
       "      <td>Europe</td>\n",
       "    </tr>\n",
       "    <tr>\n",
       "      <th>Germany</th>\n",
       "      <td>80.940</td>\n",
       "      <td>3874437</td>\n",
       "      <td>357114</td>\n",
       "      <td>0.916</td>\n",
       "      <td>Europe</td>\n",
       "    </tr>\n",
       "    <tr>\n",
       "      <th>Italy</th>\n",
       "      <td>60.665</td>\n",
       "      <td>2167744</td>\n",
       "      <td>301336</td>\n",
       "      <td>0.873</td>\n",
       "      <td>Europe</td>\n",
       "    </tr>\n",
       "    <tr>\n",
       "      <th>Japan</th>\n",
       "      <td>127.061</td>\n",
       "      <td>4602367</td>\n",
       "      <td>377930</td>\n",
       "      <td>0.891</td>\n",
       "      <td>Asia</td>\n",
       "    </tr>\n",
       "    <tr>\n",
       "      <th>United Kingdom</th>\n",
       "      <td>64.511</td>\n",
       "      <td>2950039</td>\n",
       "      <td>242495</td>\n",
       "      <td>0.907</td>\n",
       "      <td>Europe</td>\n",
       "    </tr>\n",
       "    <tr>\n",
       "      <th>United States</th>\n",
       "      <td>318.523</td>\n",
       "      <td>17348075</td>\n",
       "      <td>9525067</td>\n",
       "      <td>0.915</td>\n",
       "      <td>America</td>\n",
       "    </tr>\n",
       "  </tbody>\n",
       "</table>\n",
       "</div>"
      ],
      "text/plain": [
       "                Population       GDP  Surface Area    HDI Continent\n",
       "Canada              35.467   1785387       9984670  0.913   America\n",
       "France              63.951   2833687        640679  0.888    Europe\n",
       "Germany             80.940   3874437        357114  0.916    Europe\n",
       "Italy               60.665   2167744        301336  0.873    Europe\n",
       "Japan              127.061   4602367        377930  0.891      Asia\n",
       "United Kingdom      64.511   2950039        242495  0.907    Europe\n",
       "United States      318.523  17348075       9525067  0.915   America"
      ]
     },
     "execution_count": 91,
     "metadata": {},
     "output_type": "execute_result"
    }
   ],
   "source": [
    "df"
   ]
  },
  {
   "cell_type": "code",
   "execution_count": 92,
   "id": "a6f8d907",
   "metadata": {},
   "outputs": [
    {
     "data": {
      "text/html": [
       "<div>\n",
       "<style scoped>\n",
       "    .dataframe tbody tr th:only-of-type {\n",
       "        vertical-align: middle;\n",
       "    }\n",
       "\n",
       "    .dataframe tbody tr th {\n",
       "        vertical-align: top;\n",
       "    }\n",
       "\n",
       "    .dataframe thead th {\n",
       "        text-align: right;\n",
       "    }\n",
       "</style>\n",
       "<table border=\"1\" class=\"dataframe\">\n",
       "  <thead>\n",
       "    <tr style=\"text-align: right;\">\n",
       "      <th></th>\n",
       "      <th>Surface Area</th>\n",
       "      <th>Continent</th>\n",
       "    </tr>\n",
       "  </thead>\n",
       "  <tbody>\n",
       "    <tr>\n",
       "      <th>Canada</th>\n",
       "      <td>9984670</td>\n",
       "      <td>America</td>\n",
       "    </tr>\n",
       "    <tr>\n",
       "      <th>France</th>\n",
       "      <td>640679</td>\n",
       "      <td>Europe</td>\n",
       "    </tr>\n",
       "    <tr>\n",
       "      <th>Germany</th>\n",
       "      <td>357114</td>\n",
       "      <td>Europe</td>\n",
       "    </tr>\n",
       "    <tr>\n",
       "      <th>Italy</th>\n",
       "      <td>301336</td>\n",
       "      <td>Europe</td>\n",
       "    </tr>\n",
       "    <tr>\n",
       "      <th>Japan</th>\n",
       "      <td>377930</td>\n",
       "      <td>Asia</td>\n",
       "    </tr>\n",
       "    <tr>\n",
       "      <th>United Kingdom</th>\n",
       "      <td>242495</td>\n",
       "      <td>Europe</td>\n",
       "    </tr>\n",
       "    <tr>\n",
       "      <th>United States</th>\n",
       "      <td>9525067</td>\n",
       "      <td>America</td>\n",
       "    </tr>\n",
       "  </tbody>\n",
       "</table>\n",
       "</div>"
      ],
      "text/plain": [
       "                Surface Area Continent\n",
       "Canada               9984670   America\n",
       "France                640679    Europe\n",
       "Germany               357114    Europe\n",
       "Italy                 301336    Europe\n",
       "Japan                 377930      Asia\n",
       "United Kingdom        242495    Europe\n",
       "United States        9525067   America"
      ]
     },
     "execution_count": 92,
     "metadata": {},
     "output_type": "execute_result"
    }
   ],
   "source": [
    "df[['Surface Area', 'Continent']]"
   ]
  },
  {
   "cell_type": "code",
   "execution_count": 93,
   "id": "909fafe5",
   "metadata": {},
   "outputs": [
    {
     "data": {
      "text/html": [
       "<div>\n",
       "<style scoped>\n",
       "    .dataframe tbody tr th:only-of-type {\n",
       "        vertical-align: middle;\n",
       "    }\n",
       "\n",
       "    .dataframe tbody tr th {\n",
       "        vertical-align: top;\n",
       "    }\n",
       "\n",
       "    .dataframe thead th {\n",
       "        text-align: right;\n",
       "    }\n",
       "</style>\n",
       "<table border=\"1\" class=\"dataframe\">\n",
       "  <thead>\n",
       "    <tr style=\"text-align: right;\">\n",
       "      <th></th>\n",
       "      <th>Population</th>\n",
       "      <th>GDP</th>\n",
       "      <th>Surface Area</th>\n",
       "      <th>HDI</th>\n",
       "      <th>Continent</th>\n",
       "    </tr>\n",
       "  </thead>\n",
       "  <tbody>\n",
       "    <tr>\n",
       "      <th>France</th>\n",
       "      <td>63.951</td>\n",
       "      <td>2833687</td>\n",
       "      <td>640679</td>\n",
       "      <td>0.888</td>\n",
       "      <td>Europe</td>\n",
       "    </tr>\n",
       "    <tr>\n",
       "      <th>Germany</th>\n",
       "      <td>80.940</td>\n",
       "      <td>3874437</td>\n",
       "      <td>357114</td>\n",
       "      <td>0.916</td>\n",
       "      <td>Europe</td>\n",
       "    </tr>\n",
       "  </tbody>\n",
       "</table>\n",
       "</div>"
      ],
      "text/plain": [
       "         Population      GDP  Surface Area    HDI Continent\n",
       "France       63.951  2833687        640679  0.888    Europe\n",
       "Germany      80.940  3874437        357114  0.916    Europe"
      ]
     },
     "execution_count": 93,
     "metadata": {},
     "output_type": "execute_result"
    }
   ],
   "source": [
    "df[1:3]"
   ]
  },
  {
   "cell_type": "code",
   "execution_count": 94,
   "id": "c1b0a810",
   "metadata": {},
   "outputs": [
    {
     "data": {
      "text/html": [
       "<div>\n",
       "<style scoped>\n",
       "    .dataframe tbody tr th:only-of-type {\n",
       "        vertical-align: middle;\n",
       "    }\n",
       "\n",
       "    .dataframe tbody tr th {\n",
       "        vertical-align: top;\n",
       "    }\n",
       "\n",
       "    .dataframe thead th {\n",
       "        text-align: right;\n",
       "    }\n",
       "</style>\n",
       "<table border=\"1\" class=\"dataframe\">\n",
       "  <thead>\n",
       "    <tr style=\"text-align: right;\">\n",
       "      <th></th>\n",
       "      <th>Population</th>\n",
       "      <th>GDP</th>\n",
       "      <th>Surface Area</th>\n",
       "      <th>HDI</th>\n",
       "      <th>Continent</th>\n",
       "    </tr>\n",
       "  </thead>\n",
       "  <tbody>\n",
       "    <tr>\n",
       "      <th>Germany</th>\n",
       "      <td>80.940</td>\n",
       "      <td>3874437</td>\n",
       "      <td>357114</td>\n",
       "      <td>0.916</td>\n",
       "      <td>Europe</td>\n",
       "    </tr>\n",
       "    <tr>\n",
       "      <th>Italy</th>\n",
       "      <td>60.665</td>\n",
       "      <td>2167744</td>\n",
       "      <td>301336</td>\n",
       "      <td>0.873</td>\n",
       "      <td>Europe</td>\n",
       "    </tr>\n",
       "    <tr>\n",
       "      <th>Japan</th>\n",
       "      <td>127.061</td>\n",
       "      <td>4602367</td>\n",
       "      <td>377930</td>\n",
       "      <td>0.891</td>\n",
       "      <td>Asia</td>\n",
       "    </tr>\n",
       "  </tbody>\n",
       "</table>\n",
       "</div>"
      ],
      "text/plain": [
       "         Population      GDP  Surface Area    HDI Continent\n",
       "Germany      80.940  3874437        357114  0.916    Europe\n",
       "Italy        60.665  2167744        301336  0.873    Europe\n",
       "Japan       127.061  4602367        377930  0.891      Asia"
      ]
     },
     "execution_count": 94,
     "metadata": {},
     "output_type": "execute_result"
    }
   ],
   "source": [
    "df[2:5]"
   ]
  },
  {
   "cell_type": "code",
   "execution_count": 95,
   "id": "4a793c71",
   "metadata": {},
   "outputs": [
    {
     "data": {
      "text/html": [
       "<div>\n",
       "<style scoped>\n",
       "    .dataframe tbody tr th:only-of-type {\n",
       "        vertical-align: middle;\n",
       "    }\n",
       "\n",
       "    .dataframe tbody tr th {\n",
       "        vertical-align: top;\n",
       "    }\n",
       "\n",
       "    .dataframe thead th {\n",
       "        text-align: right;\n",
       "    }\n",
       "</style>\n",
       "<table border=\"1\" class=\"dataframe\">\n",
       "  <thead>\n",
       "    <tr style=\"text-align: right;\">\n",
       "      <th></th>\n",
       "      <th>Population</th>\n",
       "      <th>GDP</th>\n",
       "      <th>Surface Area</th>\n",
       "      <th>HDI</th>\n",
       "      <th>Continent</th>\n",
       "    </tr>\n",
       "  </thead>\n",
       "  <tbody>\n",
       "    <tr>\n",
       "      <th>Italy</th>\n",
       "      <td>60.665</td>\n",
       "      <td>2167744</td>\n",
       "      <td>301336</td>\n",
       "      <td>0.873</td>\n",
       "      <td>Europe</td>\n",
       "    </tr>\n",
       "    <tr>\n",
       "      <th>Japan</th>\n",
       "      <td>127.061</td>\n",
       "      <td>4602367</td>\n",
       "      <td>377930</td>\n",
       "      <td>0.891</td>\n",
       "      <td>Asia</td>\n",
       "    </tr>\n",
       "    <tr>\n",
       "      <th>United Kingdom</th>\n",
       "      <td>64.511</td>\n",
       "      <td>2950039</td>\n",
       "      <td>242495</td>\n",
       "      <td>0.907</td>\n",
       "      <td>Europe</td>\n",
       "    </tr>\n",
       "    <tr>\n",
       "      <th>United States</th>\n",
       "      <td>318.523</td>\n",
       "      <td>17348075</td>\n",
       "      <td>9525067</td>\n",
       "      <td>0.915</td>\n",
       "      <td>America</td>\n",
       "    </tr>\n",
       "  </tbody>\n",
       "</table>\n",
       "</div>"
      ],
      "text/plain": [
       "                Population       GDP  Surface Area    HDI Continent\n",
       "Italy               60.665   2167744        301336  0.873    Europe\n",
       "Japan              127.061   4602367        377930  0.891      Asia\n",
       "United Kingdom      64.511   2950039        242495  0.907    Europe\n",
       "United States      318.523  17348075       9525067  0.915   America"
      ]
     },
     "execution_count": 95,
     "metadata": {},
     "output_type": "execute_result"
    }
   ],
   "source": [
    "df[3:7]"
   ]
  },
  {
   "cell_type": "code",
   "execution_count": 96,
   "id": "2706e80f",
   "metadata": {},
   "outputs": [
    {
     "data": {
      "text/plain": [
       "Population       60.665\n",
       "GDP             2167744\n",
       "Surface Area     301336\n",
       "HDI               0.873\n",
       "Continent        Europe\n",
       "Name: Italy, dtype: object"
      ]
     },
     "execution_count": 96,
     "metadata": {},
     "output_type": "execute_result"
    }
   ],
   "source": [
    "df.loc['Italy']"
   ]
  },
  {
   "cell_type": "code",
   "execution_count": 98,
   "id": "aab2d043",
   "metadata": {},
   "outputs": [
    {
     "data": {
      "text/plain": [
       "Italy              60.665\n",
       "Japan             127.061\n",
       "United Kingdom     64.511\n",
       "United States     318.523\n",
       "Name: Population, dtype: float64"
      ]
     },
     "execution_count": 98,
     "metadata": {},
     "output_type": "execute_result"
    }
   ],
   "source": [
    "df.loc['Italy' : 'United States', 'Population']"
   ]
  },
  {
   "cell_type": "code",
   "execution_count": 99,
   "id": "980c01b3",
   "metadata": {},
   "outputs": [
    {
     "data": {
      "text/html": [
       "<div>\n",
       "<style scoped>\n",
       "    .dataframe tbody tr th:only-of-type {\n",
       "        vertical-align: middle;\n",
       "    }\n",
       "\n",
       "    .dataframe tbody tr th {\n",
       "        vertical-align: top;\n",
       "    }\n",
       "\n",
       "    .dataframe thead th {\n",
       "        text-align: right;\n",
       "    }\n",
       "</style>\n",
       "<table border=\"1\" class=\"dataframe\">\n",
       "  <thead>\n",
       "    <tr style=\"text-align: right;\">\n",
       "      <th></th>\n",
       "      <th>Population</th>\n",
       "      <th>GDP</th>\n",
       "    </tr>\n",
       "  </thead>\n",
       "  <tbody>\n",
       "    <tr>\n",
       "      <th>Italy</th>\n",
       "      <td>60.665</td>\n",
       "      <td>2167744</td>\n",
       "    </tr>\n",
       "    <tr>\n",
       "      <th>Japan</th>\n",
       "      <td>127.061</td>\n",
       "      <td>4602367</td>\n",
       "    </tr>\n",
       "    <tr>\n",
       "      <th>United Kingdom</th>\n",
       "      <td>64.511</td>\n",
       "      <td>2950039</td>\n",
       "    </tr>\n",
       "    <tr>\n",
       "      <th>United States</th>\n",
       "      <td>318.523</td>\n",
       "      <td>17348075</td>\n",
       "    </tr>\n",
       "  </tbody>\n",
       "</table>\n",
       "</div>"
      ],
      "text/plain": [
       "                Population       GDP\n",
       "Italy               60.665   2167744\n",
       "Japan              127.061   4602367\n",
       "United Kingdom      64.511   2950039\n",
       "United States      318.523  17348075"
      ]
     },
     "execution_count": 99,
     "metadata": {},
     "output_type": "execute_result"
    }
   ],
   "source": [
    "df.loc['Italy' : 'United States', ['Population', 'GDP']]"
   ]
  },
  {
   "cell_type": "code",
   "execution_count": 100,
   "id": "b193a318",
   "metadata": {},
   "outputs": [
    {
     "data": {
      "text/html": [
       "<div>\n",
       "<style scoped>\n",
       "    .dataframe tbody tr th:only-of-type {\n",
       "        vertical-align: middle;\n",
       "    }\n",
       "\n",
       "    .dataframe tbody tr th {\n",
       "        vertical-align: top;\n",
       "    }\n",
       "\n",
       "    .dataframe thead th {\n",
       "        text-align: right;\n",
       "    }\n",
       "</style>\n",
       "<table border=\"1\" class=\"dataframe\">\n",
       "  <thead>\n",
       "    <tr style=\"text-align: right;\">\n",
       "      <th></th>\n",
       "      <th>HDI</th>\n",
       "      <th>Continent</th>\n",
       "    </tr>\n",
       "  </thead>\n",
       "  <tbody>\n",
       "    <tr>\n",
       "      <th>Japan</th>\n",
       "      <td>0.891</td>\n",
       "      <td>Asia</td>\n",
       "    </tr>\n",
       "    <tr>\n",
       "      <th>United Kingdom</th>\n",
       "      <td>0.907</td>\n",
       "      <td>Europe</td>\n",
       "    </tr>\n",
       "    <tr>\n",
       "      <th>United States</th>\n",
       "      <td>0.915</td>\n",
       "      <td>America</td>\n",
       "    </tr>\n",
       "  </tbody>\n",
       "</table>\n",
       "</div>"
      ],
      "text/plain": [
       "                  HDI Continent\n",
       "Japan           0.891      Asia\n",
       "United Kingdom  0.907    Europe\n",
       "United States   0.915   America"
      ]
     },
     "execution_count": 100,
     "metadata": {},
     "output_type": "execute_result"
    }
   ],
   "source": [
    "df.loc['Japan' : 'United States' , ['HDI' , 'Continent']]"
   ]
  },
  {
   "cell_type": "code",
   "execution_count": 101,
   "id": "264ef540",
   "metadata": {},
   "outputs": [
    {
     "data": {
      "text/html": [
       "<div>\n",
       "<style scoped>\n",
       "    .dataframe tbody tr th:only-of-type {\n",
       "        vertical-align: middle;\n",
       "    }\n",
       "\n",
       "    .dataframe tbody tr th {\n",
       "        vertical-align: top;\n",
       "    }\n",
       "\n",
       "    .dataframe thead th {\n",
       "        text-align: right;\n",
       "    }\n",
       "</style>\n",
       "<table border=\"1\" class=\"dataframe\">\n",
       "  <thead>\n",
       "    <tr style=\"text-align: right;\">\n",
       "      <th></th>\n",
       "      <th>Population</th>\n",
       "      <th>HDI</th>\n",
       "    </tr>\n",
       "  </thead>\n",
       "  <tbody>\n",
       "    <tr>\n",
       "      <th>France</th>\n",
       "      <td>63.951</td>\n",
       "      <td>0.888</td>\n",
       "    </tr>\n",
       "    <tr>\n",
       "      <th>Germany</th>\n",
       "      <td>80.940</td>\n",
       "      <td>0.916</td>\n",
       "    </tr>\n",
       "  </tbody>\n",
       "</table>\n",
       "</div>"
      ],
      "text/plain": [
       "         Population    HDI\n",
       "France       63.951  0.888\n",
       "Germany      80.940  0.916"
      ]
     },
     "execution_count": 101,
     "metadata": {},
     "output_type": "execute_result"
    }
   ],
   "source": [
    "df.iloc[1:3,[0,3]]"
   ]
  },
  {
   "cell_type": "code",
   "execution_count": 104,
   "id": "9c03a83a",
   "metadata": {},
   "outputs": [
    {
     "data": {
      "text/html": [
       "<div>\n",
       "<style scoped>\n",
       "    .dataframe tbody tr th:only-of-type {\n",
       "        vertical-align: middle;\n",
       "    }\n",
       "\n",
       "    .dataframe tbody tr th {\n",
       "        vertical-align: top;\n",
       "    }\n",
       "\n",
       "    .dataframe thead th {\n",
       "        text-align: right;\n",
       "    }\n",
       "</style>\n",
       "<table border=\"1\" class=\"dataframe\">\n",
       "  <thead>\n",
       "    <tr style=\"text-align: right;\">\n",
       "      <th></th>\n",
       "      <th>Population</th>\n",
       "      <th>GDP</th>\n",
       "      <th>Surface Area</th>\n",
       "      <th>HDI</th>\n",
       "      <th>Continent</th>\n",
       "    </tr>\n",
       "  </thead>\n",
       "  <tbody>\n",
       "    <tr>\n",
       "      <th>Canada</th>\n",
       "      <td>35.467</td>\n",
       "      <td>1785387</td>\n",
       "      <td>9984670</td>\n",
       "      <td>0.913</td>\n",
       "      <td>America</td>\n",
       "    </tr>\n",
       "    <tr>\n",
       "      <th>France</th>\n",
       "      <td>63.951</td>\n",
       "      <td>2833687</td>\n",
       "      <td>640679</td>\n",
       "      <td>0.888</td>\n",
       "      <td>Europe</td>\n",
       "    </tr>\n",
       "    <tr>\n",
       "      <th>United States</th>\n",
       "      <td>318.523</td>\n",
       "      <td>17348075</td>\n",
       "      <td>9525067</td>\n",
       "      <td>0.915</td>\n",
       "      <td>America</td>\n",
       "    </tr>\n",
       "  </tbody>\n",
       "</table>\n",
       "</div>"
      ],
      "text/plain": [
       "               Population       GDP  Surface Area    HDI Continent\n",
       "Canada             35.467   1785387       9984670  0.913   America\n",
       "France             63.951   2833687        640679  0.888    Europe\n",
       "United States     318.523  17348075       9525067  0.915   America"
      ]
     },
     "execution_count": 104,
     "metadata": {},
     "output_type": "execute_result"
    }
   ],
   "source": [
    "df.iloc[[0, 1, -1]]"
   ]
  },
  {
   "cell_type": "code",
   "execution_count": 105,
   "id": "f798c0f0",
   "metadata": {},
   "outputs": [
    {
     "data": {
      "text/html": [
       "<div>\n",
       "<style scoped>\n",
       "    .dataframe tbody tr th:only-of-type {\n",
       "        vertical-align: middle;\n",
       "    }\n",
       "\n",
       "    .dataframe tbody tr th {\n",
       "        vertical-align: top;\n",
       "    }\n",
       "\n",
       "    .dataframe thead th {\n",
       "        text-align: right;\n",
       "    }\n",
       "</style>\n",
       "<table border=\"1\" class=\"dataframe\">\n",
       "  <thead>\n",
       "    <tr style=\"text-align: right;\">\n",
       "      <th></th>\n",
       "      <th>Population</th>\n",
       "      <th>GDP</th>\n",
       "      <th>Surface Area</th>\n",
       "      <th>HDI</th>\n",
       "      <th>Continent</th>\n",
       "    </tr>\n",
       "  </thead>\n",
       "  <tbody>\n",
       "    <tr>\n",
       "      <th>France</th>\n",
       "      <td>63.951</td>\n",
       "      <td>2833687</td>\n",
       "      <td>640679</td>\n",
       "      <td>0.888</td>\n",
       "      <td>Europe</td>\n",
       "    </tr>\n",
       "    <tr>\n",
       "      <th>Italy</th>\n",
       "      <td>60.665</td>\n",
       "      <td>2167744</td>\n",
       "      <td>301336</td>\n",
       "      <td>0.873</td>\n",
       "      <td>Europe</td>\n",
       "    </tr>\n",
       "    <tr>\n",
       "      <th>Canada</th>\n",
       "      <td>35.467</td>\n",
       "      <td>1785387</td>\n",
       "      <td>9984670</td>\n",
       "      <td>0.913</td>\n",
       "      <td>America</td>\n",
       "    </tr>\n",
       "  </tbody>\n",
       "</table>\n",
       "</div>"
      ],
      "text/plain": [
       "        Population      GDP  Surface Area    HDI Continent\n",
       "France      63.951  2833687        640679  0.888    Europe\n",
       "Italy       60.665  2167744        301336  0.873    Europe\n",
       "Canada      35.467  1785387       9984670  0.913   America"
      ]
     },
     "execution_count": 105,
     "metadata": {},
     "output_type": "execute_result"
    }
   ],
   "source": [
    "df.iloc[[1, 3, 0]]"
   ]
  },
  {
   "cell_type": "code",
   "execution_count": 107,
   "id": "671b296d",
   "metadata": {},
   "outputs": [
    {
     "data": {
      "text/html": [
       "<div>\n",
       "<style scoped>\n",
       "    .dataframe tbody tr th:only-of-type {\n",
       "        vertical-align: middle;\n",
       "    }\n",
       "\n",
       "    .dataframe tbody tr th {\n",
       "        vertical-align: top;\n",
       "    }\n",
       "\n",
       "    .dataframe thead th {\n",
       "        text-align: right;\n",
       "    }\n",
       "</style>\n",
       "<table border=\"1\" class=\"dataframe\">\n",
       "  <thead>\n",
       "    <tr style=\"text-align: right;\">\n",
       "      <th></th>\n",
       "      <th>GDP</th>\n",
       "      <th>Surface Area</th>\n",
       "    </tr>\n",
       "  </thead>\n",
       "  <tbody>\n",
       "    <tr>\n",
       "      <th>France</th>\n",
       "      <td>2833687</td>\n",
       "      <td>640679</td>\n",
       "    </tr>\n",
       "    <tr>\n",
       "      <th>Germany</th>\n",
       "      <td>3874437</td>\n",
       "      <td>357114</td>\n",
       "    </tr>\n",
       "  </tbody>\n",
       "</table>\n",
       "</div>"
      ],
      "text/plain": [
       "             GDP  Surface Area\n",
       "France   2833687        640679\n",
       "Germany  3874437        357114"
      ]
     },
     "execution_count": 107,
     "metadata": {},
     "output_type": "execute_result"
    }
   ],
   "source": [
    "df.iloc[1:3, 1:3]"
   ]
  }
 ],
 "metadata": {
  "kernelspec": {
   "display_name": "Python 3 (ipykernel)",
   "language": "python",
   "name": "python3"
  },
  "language_info": {
   "codemirror_mode": {
    "name": "ipython",
    "version": 3
   },
   "file_extension": ".py",
   "mimetype": "text/x-python",
   "name": "python",
   "nbconvert_exporter": "python",
   "pygments_lexer": "ipython3",
   "version": "3.11.5"
  }
 },
 "nbformat": 4,
 "nbformat_minor": 5
}
